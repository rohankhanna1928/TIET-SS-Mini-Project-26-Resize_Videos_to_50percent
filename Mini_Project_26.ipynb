{
  "nbformat": 4,
  "nbformat_minor": 0,
  "metadata": {
    "colab": {
      "provenance": [],
      "include_colab_link": true
    },
    "kernelspec": {
      "name": "python3",
      "display_name": "Python 3"
    },
    "language_info": {
      "name": "python"
    }
  },
  "cells": [
    {
      "cell_type": "markdown",
      "metadata": {
        "id": "view-in-github",
        "colab_type": "text"
      },
      "source": [
        "<a href=\"https://colab.research.google.com/github/rohankhanna1928/TIET-SS-Mini-Project-26-Resize_Videos_to_50percent/blob/main/Mini_Project_26.ipynb\" target=\"_parent\"><img src=\"https://colab.research.google.com/assets/colab-badge.svg\" alt=\"Open In Colab\"/></a>"
      ]
    },
    {
      "cell_type": "code",
      "source": [
        "import cv2\n",
        "import os\n",
        "\n",
        "input_folder = 'input_videos'\n",
        "output_folder = 'resized_videos'\n",
        "os.makedirs(output_folder, exist_ok=True)\n",
        "\n",
        "for filename in os.listdir(input_folder):\n",
        "    if filename.endswith(('.mp4', '.mov')):\n",
        "        input_path = os.path.join(input_folder, filename)\n",
        "        output_filename = os.path.splitext(filename)[0] + '_resized.mp4'\n",
        "        output_path = os.path.join(output_folder, output_filename)\n",
        "\n",
        "        cap = cv2.VideoCapture(input_path)\n",
        "        fourcc = cv2.VideoWriter_fourcc(*'mp4v')  # Use 'mp4v' for .mp4 files\n",
        "\n",
        "        fps = int(cap.get(cv2.CAP_PROP_FPS))\n",
        "        width = int(cap.get(cv2.CAP_PROP_FRAME_WIDTH) * 0.5)\n",
        "        height = int(cap.get(cv2.CAP_PROP_FRAME_HEIGHT) * 0.5)\n",
        "\n",
        "        out = cv2.VideoWriter(output_path, fourcc, fps, (width, height))\n",
        "\n",
        "        while cap.isOpened():\n",
        "            ret, frame = cap.read()\n",
        "            if not ret:\n",
        "                break\n",
        "            resized_frame = cv2.resize(frame, (width, height))\n",
        "            out.write(resized_frame)\n",
        "\n",
        "        cap.release()\n",
        "        out.release()\n",
        "        print(f\"All videos resized and saved in '{output_folder}'.\")"
      ],
      "metadata": {
        "colab": {
          "base_uri": "https://localhost:8080/"
        },
        "id": "kdXbHBt8TCf7",
        "outputId": "16eb0e08-9d03-43df-93e2-a05c1b9efb91"
      },
      "execution_count": 7,
      "outputs": [
        {
          "output_type": "stream",
          "name": "stdout",
          "text": [
            "All videos resized and saved in 'resized_videos'.\n"
          ]
        }
      ]
    }
  ]
}